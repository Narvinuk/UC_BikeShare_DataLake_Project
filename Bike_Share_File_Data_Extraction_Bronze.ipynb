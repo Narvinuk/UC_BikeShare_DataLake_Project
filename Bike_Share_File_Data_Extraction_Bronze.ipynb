{
 "cells": [
  {
   "cell_type": "code",
   "execution_count": 0,
   "metadata": {
    "application/vnd.databricks.v1+cell": {
     "cellMetadata": {
      "byteLimit": 2048000,
      "rowLimit": 10000
     },
     "inputWidgets": {},
     "nuid": "e3429efc-3951-4aa9-aece-2e8ab3fe6d3f",
     "showTitle": false,
     "title": ""
    }
   },
   "outputs": [],
   "source": [
    "from pyspark.sql import SparkSession\n",
    "from pyspark.sql.functions import udf\n",
    "from pyspark.sql.types import StringType\n",
    "from pyspark.sql.types import IntegerType\n",
    "from pyspark.sql.functions import desc\n",
    "from pyspark.sql.functions import asc\n",
    "from pyspark.sql.functions import sum as Fsum\n",
    "from pyspark.sql.functions import isnan, count, when, col, desc, udf, col, sort_array, asc, avg\n",
    "import datetime\n",
    "import numpy as np\n",
    "import pandas as pd\n",
    "%matplotlib inline\n",
    "import matplotlib.pyplot as plt"
   ]
  },
  {
   "cell_type": "code",
   "execution_count": 0,
   "metadata": {
    "application/vnd.databricks.v1+cell": {
     "cellMetadata": {
      "byteLimit": 2048000,
      "rowLimit": 10000
     },
     "inputWidgets": {},
     "nuid": "259b96b1-fc14-4187-9927-dc82686b8f01",
     "showTitle": false,
     "title": ""
    }
   },
   "outputs": [],
   "source": [
    "#Create Filestore paths\n",
    "payments_file_path=\"/FileStore/payments.csv\"\n",
    "rider_file_path=\"/FileStore/riders.csv\"\n",
    "stations_file_path=\"/FileStore/stations.csv\"\n",
    "trips_file_path=\"/FileStore/trips.csv\"\n"
   ]
  },
  {
   "cell_type": "code",
   "execution_count": 0,
   "metadata": {
    "application/vnd.databricks.v1+cell": {
     "cellMetadata": {
      "byteLimit": 2048000,
      "rowLimit": 10000
     },
     "inputWidgets": {},
     "nuid": "030f3e7e-ba52-4c48-9a92-f50425a8c49f",
     "showTitle": false,
     "title": ""
    }
   },
   "outputs": [],
   "source": [
    "#Create payment dataframe from csv file\n",
    "df_pay=spark.read.csv(payments_file_path,header=False,inferSchema=True)\n",
    "#Create rider dataframe from csv file\n",
    "df_rider=spark.read.csv(rider_file_path,header=False,inferSchema=True)\n",
    "#Create stations dataframe from csv file\n",
    "df_stations=spark.read.csv(stations_file_path,header=False,inferSchema=True)\n",
    "#Create trips dataframe from csv file\n",
    "df_trips=spark.read.csv(trips_file_path,header=False,inferSchema=True)"
   ]
  },
  {
   "cell_type": "code",
   "execution_count": 0,
   "metadata": {
    "application/vnd.databricks.v1+cell": {
     "cellMetadata": {
      "byteLimit": 2048000,
      "rowLimit": 10000
     },
     "inputWidgets": {},
     "nuid": "ed69256c-d547-4383-b1b6-9fe9547ae744",
     "showTitle": false,
     "title": ""
    }
   },
   "outputs": [
    {
     "output_type": "execute_result",
     "data": {
      "text/plain": [
       "DataFrame[id: int, date: date, amount: double, rider_id: int]"
      ]
     },
     "execution_count": 7,
     "metadata": {},
     "output_type": "execute_result"
    }
   ],
   "source": [
    "#Add header record to the dataframe\n",
    "df_riders=df_rider.toDF(\"rider_id\",\"first\",\"last\",\"address\",\"birthday\",\"account_start_date\",\"account_end_date\",\"is_member\")\n",
    "#Drop Duplicates\n",
    "df_riders.dropDuplicates()\n",
    "#Add header record to the dataframe\n",
    "df_trip=df_trips.toDF(\"trip_id\",\"rideable_type\",\"started_at\",\"ended_at\",\"start_station_id\",\"end_station_id\",\"rider_id\")\n",
    "#Drop Duplicates\n",
    "df_trip.dropDuplicates()\n",
    "#Add header record to the dataframe\n",
    "df_station=df_stations.toDF(\"station_id\",\"name\",\"latitude\",\"longitude\")\n",
    "#Drop Duplicates\n",
    "df_station.dropDuplicates()\n",
    "#Add header record to the dataframe\n",
    "df_payment=df_pay.toDF(\"id\",\"date\",\"amount\",\"rider_id\")\n",
    "#Drop Duplicates\n",
    "df_payment.dropDuplicates()\n",
    "\n"
   ]
  },
  {
   "cell_type": "code",
   "execution_count": 0,
   "metadata": {
    "application/vnd.databricks.v1+cell": {
     "cellMetadata": {
      "byteLimit": 2048000,
      "rowLimit": 10000
     },
     "inputWidgets": {},
     "nuid": "2846ce04-640b-49f3-8816-e8b22ebe72ba",
     "showTitle": false,
     "title": ""
    }
   },
   "outputs": [],
   "source": [
    "#Create Delta Files (Bronze Layer)\n",
    "df_riders.write.format(\"delta\").mode(\"overwrite\").save(\"/delta/bronze_rider\")\n",
    "df_payment.write.format(\"delta\").mode(\"overwrite\").save(\"/delta/bronze_payment\")\n",
    "df_trip.write.format(\"delta\").mode(\"overwrite\").save(\"/delta/bronze_trip\")\n",
    "df_station.write.format(\"delta\").mode(\"overwrite\").save(\"/delta/bronze_station\")\n",
    "\n"
   ]
  },
  {
   "cell_type": "code",
   "execution_count": 0,
   "metadata": {
    "application/vnd.databricks.v1+cell": {
     "cellMetadata": {
      "byteLimit": 2048000,
      "rowLimit": 10000
     },
     "inputWidgets": {},
     "nuid": "9f7cdf0b-6e64-4faf-ab3a-54f31c0f53f0",
     "showTitle": false,
     "title": ""
    }
   },
   "outputs": [],
   "source": [
    "df_payment.show(1)\n",
    "df_riders.show(1)\n",
    "df_trip.show(1)\n",
    "df_station.show(1)"
   ]
  }
 ],
 "metadata": {
  "application/vnd.databricks.v1+notebook": {
   "dashboards": [],
   "environmentMetadata": {
    "base_environment": "",
    "client": "1"
   },
   "language": "python",
   "notebookMetadata": {
    "pythonIndentUnit": 4
   },
   "notebookName": "Bike_Share_File_Data_Extraction_Bronze",
   "widgets": {}
  }
 },
 "nbformat": 4,
 "nbformat_minor": 0
}
