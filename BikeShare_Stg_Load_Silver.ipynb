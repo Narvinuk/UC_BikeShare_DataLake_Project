{
 "cells": [
  {
   "cell_type": "code",
   "execution_count": 0,
   "metadata": {
    "application/vnd.databricks.v1+cell": {
     "cellMetadata": {
      "byteLimit": 2048000,
      "rowLimit": 10000
     },
     "inputWidgets": {},
     "nuid": "328d3f1e-6231-421c-b215-17f6481acd49",
     "showTitle": false,
     "title": ""
    }
   },
   "outputs": [
    {
     "output_type": "execute_result",
     "data": {
      "text/plain": [
       "DataFrame[id: int, date: date, amount: double, rider_id: int]"
      ]
     },
     "execution_count": 24,
     "metadata": {},
     "output_type": "execute_result"
    },
    {
     "output_type": "stream",
     "name": "stdout",
     "output_type": "stream",
     "text": [
      "+---+----------+------+--------+\n| id|      date|amount|rider_id|\n+---+----------+------+--------+\n|  1|2019-05-01|   9.0|    1000|\n+---+----------+------+--------+\nonly showing top 1 row\n\n+--------+-----+-----+-------------------+----------+------------------+----------------+---------+\n|rider_id|first| last|            address|  birthday|account_start_date|account_end_date|is_member|\n+--------+-----+-----+-------------------+----------+------------------+----------------+---------+\n|    1000|Diana|Clark|1200 Alyssa Squares|1989-02-13|        2019-04-23|            NULL|     true|\n+--------+-----+-----+-------------------+----------+------------------+----------------+---------+\nonly showing top 1 row\n\n+----------------+-------------+-------------------+-------------------+----------------+--------------+--------+\n|         trip_id|rideable_type|         started_at|           ended_at|start_station_id|end_station_id|rider_id|\n+----------------+-------------+-------------------+-------------------+----------------+--------------+--------+\n|89E7AA6C29227EFF| classic_bike|2021-02-12 16:14:56|2021-02-12 16:21:43|             525|           660|   71934|\n+----------------+-------------+-------------------+-------------------+----------------+--------------+--------+\nonly showing top 1 row\n\n+----------+--------------------+---------+------------------+\n|station_id|                name| latitude|         longitude|\n+----------+--------------------+---------+------------------+\n|       525|Glenwood Ave & To...|42.012701|-87.66605799999999|\n+----------+--------------------+---------+------------------+\nonly showing top 1 row\n\n"
     ]
    }
   ],
   "source": [
    "%run \"/Workspace/Users/odl_user_269060@udacityhol.onmicrosoft.com/Bike_Share_File_Data_Extraction_Bronze\""
   ]
  },
  {
   "cell_type": "code",
   "execution_count": 0,
   "metadata": {
    "application/vnd.databricks.v1+cell": {
     "cellMetadata": {
      "byteLimit": 2048000,
      "rowLimit": 10000
     },
     "inputWidgets": {},
     "nuid": "377dcfc8-3504-4fd6-8df6-3e09d90e1d29",
     "showTitle": false,
     "title": ""
    }
   },
   "outputs": [
    {
     "output_type": "execute_result",
     "data": {
      "text/plain": [
       "DataFrame[]"
      ]
     },
     "execution_count": 27,
     "metadata": {},
     "output_type": "execute_result"
    }
   ],
   "source": [
    "##Create stage table (silver layer)from the delta table for Payment,rider,trips and stations delta load\n",
    "spark.sql (\"CREATE TABLE IF NOT EXISTS silver_payment USING DELTA LOCATION '/delta/bronze_payment' \")\n",
    "spark.sql (\"CREATE TABLE IF NOT EXISTS silver_rider USING DELTA LOCATION '/delta/bronze_rider' \")\n",
    "spark.sql (\"CREATE TABLE IF NOT EXISTS silver_trip USING DELTA LOCATION '/delta/bronze_trip' \")\n",
    "spark.sql (\"CREATE TABLE IF NOT EXISTS silver_station USING DELTA LOCATION '/delta/bronze_station' \")\n"
   ]
  },
  {
   "cell_type": "code",
   "execution_count": 0,
   "metadata": {
    "application/vnd.databricks.v1+cell": {
     "cellMetadata": {
      "byteLimit": 2048000,
      "rowLimit": 10000
     },
     "inputWidgets": {},
     "nuid": "2b534274-f244-4bfd-80df-5df4eb114856",
     "showTitle": false,
     "title": ""
    }
   },
   "outputs": [
    {
     "output_type": "stream",
     "name": "stdout",
     "output_type": "stream",
     "text": [
      "+-------+----------+------+--------+\n|     id|      date|amount|rider_id|\n+-------+----------+------+--------+\n|1064462|2020-06-01|   9.0|   42106|\n+-------+----------+------+--------+\n\n"
     ]
    }
   ],
   "source": [
    "spark.sql (\"select * from silver_payment limit 1\").show()"
   ]
  },
  {
   "cell_type": "code",
   "execution_count": 0,
   "metadata": {
    "application/vnd.databricks.v1+cell": {
     "cellMetadata": {
      "byteLimit": 2048000,
      "rowLimit": 10000
     },
     "inputWidgets": {},
     "nuid": "2839292b-c640-4b66-ad73-44540a57225e",
     "showTitle": false,
     "title": ""
    }
   },
   "outputs": [
    {
     "output_type": "stream",
     "name": "stdout",
     "output_type": "stream",
     "text": [
      "+--------+-----+---------+-----------------+----------+------------------+----------------+---------+\n|rider_id|first|     last|          address|  birthday|account_start_date|account_end_date|is_member|\n+--------+-----+---------+-----------------+----------+------------------+----------------+---------+\n|   57257| Mark|Mcfarland|9928 Hunter Ranch|1982-02-01|        2020-12-05|            NULL|    false|\n+--------+-----+---------+-----------------+----------+------------------+----------------+---------+\n\n"
     ]
    }
   ],
   "source": [
    "spark.sql (\"select * from silver_rider limit 1\").show()"
   ]
  },
  {
   "cell_type": "code",
   "execution_count": 0,
   "metadata": {
    "application/vnd.databricks.v1+cell": {
     "cellMetadata": {
      "byteLimit": 2048000,
      "rowLimit": 10000
     },
     "inputWidgets": {},
     "nuid": "b76e837e-e2d5-47bd-aaf6-693463e43c0f",
     "showTitle": false,
     "title": ""
    }
   },
   "outputs": [
    {
     "output_type": "stream",
     "name": "stdout",
     "output_type": "stream",
     "text": [
      "+----------------+-------------+-------------------+-------------------+----------------+--------------+--------+\n|         trip_id|rideable_type|         started_at|           ended_at|start_station_id|end_station_id|rider_id|\n+----------------+-------------+-------------------+-------------------+----------------+--------------+--------+\n|222BB8E5059252D7| classic_bike|2021-06-13 09:48:47|2021-06-13 10:07:23|    KA1503000064|         13021|   34062|\n+----------------+-------------+-------------------+-------------------+----------------+--------------+--------+\n\n"
     ]
    }
   ],
   "source": [
    "\n",
    "spark.sql (\"select * from silver_trip limit 1\").show()"
   ]
  },
  {
   "cell_type": "code",
   "execution_count": 0,
   "metadata": {
    "application/vnd.databricks.v1+cell": {
     "cellMetadata": {
      "byteLimit": 2048000,
      "rowLimit": 10000
     },
     "inputWidgets": {},
     "nuid": "b5a4a70f-5402-4034-afca-29c459d08d31",
     "showTitle": false,
     "title": ""
    }
   },
   "outputs": [
    {
     "output_type": "stream",
     "name": "stdout",
     "output_type": "stream",
     "text": [
      "+----------+--------------------+---------+------------------+\n|station_id|                name| latitude|         longitude|\n+----------+--------------------+---------+------------------+\n|       525|Glenwood Ave & To...|42.012701|-87.66605799999999|\n+----------+--------------------+---------+------------------+\n\n"
     ]
    }
   ],
   "source": [
    "spark.sql (\"select * from silver_station limit 1\").show()"
   ]
  }
 ],
 "metadata": {
  "application/vnd.databricks.v1+notebook": {
   "dashboards": [],
   "environmentMetadata": {
    "base_environment": "",
    "client": "1"
   },
   "language": "python",
   "notebookMetadata": {
    "pythonIndentUnit": 4
   },
   "notebookName": "BikeShare_Stg_Load_Silver",
   "widgets": {}
  }
 },
 "nbformat": 4,
 "nbformat_minor": 0
}
